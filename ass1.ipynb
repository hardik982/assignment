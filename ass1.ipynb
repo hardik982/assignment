{
 "cells": [
  {
   "cell_type": "code",
   "execution_count": 1,
   "metadata": {},
   "outputs": [
    {
     "name": "stdout",
     "output_type": "stream",
     "text": [
      "x after swapping 5\n",
      "y after swapping 3\n"
     ]
    }
   ],
   "source": [
    "x=3\n",
    "y=5\n",
    "x,y=y,x\n",
    "print(\"x after swapping\"+\" \"+str(x))\n",
    "print(\"y after swapping\"+\" \"+str(y))"
   ]
  },
  {
   "cell_type": "code",
   "execution_count": 2,
   "metadata": {},
   "outputs": [
    {
     "name": "stdout",
     "output_type": "stream",
     "text": [
      "enter number5\n",
      "its odd\n"
     ]
    }
   ],
   "source": [
    "x=int(input(\"enter number\"))\n",
    "if x%2==0:\n",
    "    print(\"its even\")\n",
    "else:\n",
    "    print(\"its odd\")"
   ]
  },
  {
   "cell_type": "code",
   "execution_count": 3,
   "metadata": {},
   "outputs": [
    {
     "name": "stdout",
     "output_type": "stream",
     "text": [
      "enter number5\n",
      "square root is2.23606797749979\n"
     ]
    }
   ],
   "source": [
    "x=int(input(\"enter number\"))\n",
    "y=x ** (1/2)\n",
    "print(\"square root is\"+str(y))"
   ]
  },
  {
   "cell_type": "code",
   "execution_count": 4,
   "metadata": {},
   "outputs": [
    {
     "name": "stdout",
     "output_type": "stream",
     "text": [
      "enter number2\n",
      "0\n",
      "1\n",
      "2\n",
      "2\n",
      "1\n",
      "0\n"
     ]
    }
   ],
   "source": [
    "n=int(input(\"enter number\"))\n",
    "i=0\n",
    "j=n\n",
    "while i<=n:\n",
    "    print(i)\n",
    "    i=i+1\n",
    "while j>=0:\n",
    "    print(j)\n",
    "    j=j-1\n"
   ]
  },
  {
   "cell_type": "code",
   "execution_count": 5,
   "metadata": {},
   "outputs": [
    {
     "name": "stdout",
     "output_type": "stream",
     "text": [
      "even no are [0, 2, 4, 6, 8, 10, 12, 14, 16, 18, 20, 22, 24, 26, 28, 30, 32, 34, 36, 38, 40, 42, 44, 46, 48, 50, 52, 54, 56, 58, 60, 62, 64, 66, 68, 70, 72, 74, 76, 78, 80, 82, 84, 86, 88, 90, 92, 94, 96, 98, 100]\n",
      "even no are [1, 3, 5, 7, 9, 11, 13, 15, 17, 19, 21, 23, 25, 27, 29, 31, 33, 35, 37, 39, 41, 43, 45, 47, 49, 51, 53, 55, 57, 59, 61, 63, 65, 67, 69, 71, 73, 75, 77, 79, 81, 83, 85, 87, 89, 91, 93, 95, 97, 99]\n"
     ]
    }
   ],
   "source": [
    "l=[]\n",
    "j=[]\n",
    "for i in range(0,101):\n",
    "    if i%2==0:\n",
    "        l.append(i)\n",
    "    else:\n",
    "        j.append(i)\n",
    "print(\"even no are\"+\" \"+str(l))\n",
    "print(\"even no are\"+\" \"+str(j))\n",
    "  "
   ]
  },
  {
   "cell_type": "code",
   "execution_count": 6,
   "metadata": {},
   "outputs": [
    {
     "name": "stdout",
     "output_type": "stream",
     "text": [
      "enter number5\n",
      "vol is523.3333333333334\n"
     ]
    }
   ],
   "source": [
    "r=int(input(\"enter number\"))\n",
    "pi=3.14\n",
    "vol=(4/3)* pi * r ** 3\n",
    "print(\"vol is\"+str(vol))"
   ]
  },
  {
   "cell_type": "code",
   "execution_count": 9,
   "metadata": {},
   "outputs": [
    {
     "name": "stdout",
     "output_type": "stream",
     "text": [
      "enter number6\n",
      "8\n"
     ]
    }
   ],
   "source": [
    "r=int(input(\"enter number\"))\n",
    "i =3\n",
    "sum=0\n",
    "while i<r:\n",
    "    if i%3==0 or i%5==0:\n",
    "        sum=sum+i\n",
    "    else:\n",
    "        pass\n",
    "    i=i+1\n",
    "print(sum)"
   ]
  },
  {
   "cell_type": "code",
   "execution_count": 10,
   "metadata": {},
   "outputs": [
    {
     "name": "stdout",
     "output_type": "stream",
     "text": [
      "enter number7\n",
      "5040\n"
     ]
    }
   ],
   "source": [
    "r=int(input(\"enter number\"))\n",
    "i=r-1\n",
    "while i>1:\n",
    "    r=r*i\n",
    "    i=i-1\n",
    "print(r)"
   ]
  },
  {
   "cell_type": "code",
   "execution_count": 11,
   "metadata": {},
   "outputs": [
    {
     "name": "stdout",
     "output_type": "stream",
     "text": [
      "enter no5\n",
      "1\n",
      "5\n"
     ]
    }
   ],
   "source": [
    "x=int(input(\"enter no\"))\n",
    "for i in range(1,x+1):\n",
    "    if x%i==0:\n",
    "        print(i)\n",
    "    else:\n",
    "        pass"
   ]
  },
  {
   "cell_type": "code",
   "execution_count": null,
   "metadata": {},
   "outputs": [],
   "source": [
    "a=int(input(\"enter a\"))\n",
    "b=int(input(\"enter b\"))\n",
    "c=int(input(\"enter c\"))\n",
    "z=b**2-4*a*c\n",
    "if z>0:\n",
    "    root1 = (-b+(z**(1/2)))/(2*a)\n",
    "    root2 =(-b-(z**(1/2)))/(2*a)\n",
    "    print(\"root 1 is\"+\" \"+root1+\" \"+\"root 2 is\"+\" \"+root2)\n",
    "elif z==0:\n",
    "    root1 = root2 = -b/(2*a)\n",
    "    print(\"root 1 is\"+\" \"+root1+\" \"+\"root 2 is\"+\" \"+root2)\n",
    "else:\n",
    "    realPart = -b/(2*a)\n",
    "    imaginaryPart = (-z**(1/2))/(2*a)\n",
    "    root1=-b+realPart-(z**(1/2))/2*a\n",
    "    root2=-b-imaginaryPart -(z**(1/2))/2*a\n",
    "    print(\"root 1 is\"+root1+\"root 2 is\"+root2)\n",
    "    \n",
    "        "
   ]
  },
  {
   "cell_type": "code",
   "execution_count": 18,
   "metadata": {},
   "outputs": [
    {
     "name": "stdout",
     "output_type": "stream",
     "text": [
      "enter number rows4\n",
      "* \n",
      "* * \n",
      "* * * \n",
      "* * * * \n",
      "* * * * * \n"
     ]
    }
   ],
   "source": [
    "r=int(input(\"enter number rows\"))\n",
    "for i in range(0,r+1):\n",
    "    for j in range(0,i+1):\n",
    "        print(\"*\",end=\" \")\n",
    "    print()"
   ]
  },
  {
   "cell_type": "code",
   "execution_count": 19,
   "metadata": {},
   "outputs": [
    {
     "name": "stdout",
     "output_type": "stream",
     "text": [
      "enter number rows4\n",
      "* * * * * \n",
      "* * * * \n",
      "* * * \n",
      "* * \n",
      "* \n"
     ]
    }
   ],
   "source": [
    "r=int(input(\"enter number rows\"))\n",
    "for i in range(0,r+1):\n",
    "    for j in range(i,r+1):\n",
    "          print(\"*\",end=\" \")\n",
    "    print()\n",
    "                    \n",
    "        "
   ]
  },
  {
   "cell_type": "code",
   "execution_count": 20,
   "metadata": {},
   "outputs": [
    {
     "name": "stdout",
     "output_type": "stream",
     "text": [
      "enter number rows5\n",
      "1 \n",
      "2 2 \n",
      "3 3 3 \n",
      "4 4 4 4 \n",
      "5 5 5 5 5 \n"
     ]
    }
   ],
   "source": [
    "r=int(input(\"enter number rows\"))\n",
    "for i in range(1,r+1):\n",
    "    for j in range(1,i+1):\n",
    "        print(i,end=\" \")\n",
    "    print()"
   ]
  },
  {
   "cell_type": "code",
   "execution_count": 21,
   "metadata": {},
   "outputs": [
    {
     "name": "stdout",
     "output_type": "stream",
     "text": [
      "enter number rows4\n",
      "   * \n",
      "  * * \n",
      " * * * \n",
      "* * * * \n"
     ]
    }
   ],
   "source": [
    "r=int(input(\"enter number rows\"))\n",
    "for i in range(1,r+1):\n",
    "    for j in range(1,r-i+1):\n",
    "        print(end=\" \")\n",
    "    for j in range(1,i+1):\n",
    "        print(\"*\",end=\" \")\n",
    "    print()\n",
    "    \n",
    "    \n",
    "    "
   ]
  },
  {
   "cell_type": "code",
   "execution_count": 22,
   "metadata": {},
   "outputs": [
    {
     "name": "stdout",
     "output_type": "stream",
     "text": [
      "9 8 8 8 8 8 8 8 9 \n",
      "9 8 8 8 8 8 8 8 9 \n",
      "9 8 8 8 8 8 8 8 9 \n",
      "9 8 8 8 8 8 8 8 9 \n",
      "9 8 8 8 8 8 8 8 9 \n",
      "9 8 8 8 8 8 8 8 9 \n",
      "9 8 8 8 8 8 8 8 9 \n",
      "9 8 8 8 8 8 8 8 9 \n",
      "9 9 9 9 9 9 9 9 9 \n"
     ]
    }
   ],
   "source": [
    "n=9\n",
    "for i in range(n):\n",
    "    for j in range(n):\n",
    "        print(max(i+1,j+1,n-1,n-j),end=\" \")\n",
    "    print()"
   ]
  },
  {
   "cell_type": "code",
   "execution_count": null,
   "metadata": {},
   "outputs": [],
   "source": [
    "i=0\n",
    "sum=0\n",
    "while i<1001:\n",
    "    if i%3==0 and i%5==0:\n",
    "        sum=sum+i\n",
    "        i=i+1\n",
    "    print(sum)"
   ]
  },
  {
   "cell_type": "code",
   "execution_count": 3,
   "metadata": {},
   "outputs": [
    {
     "name": "stdout",
     "output_type": "stream",
     "text": [
      "sum of sqayres is385\n",
      "squareof sum is3025\n"
     ]
    }
   ],
   "source": [
    "i=0\n",
    "squareofsum=0\n",
    "sumofsquares=0\n",
    "while i<=10:\n",
    "    sumofsquares=sumofsquares+i**2\n",
    "    squareofsum=squareofsum+i\n",
    "    i=i+1\n",
    "print(\"sum of sqayres is\"+ str(sumofsquares))\n",
    "print(\"squareof sum is\"+ str(squareofsum**2))\n",
    "    "
   ]
  },
  {
   "cell_type": "code",
   "execution_count": 2,
   "metadata": {},
   "outputs": [
    {
     "name": "stdout",
     "output_type": "stream",
     "text": [
      "0\n",
      "1\n",
      "1\n",
      "3\n",
      "5\n",
      "7\n",
      "9\n",
      "11\n",
      "13\n",
      "15\n",
      "17\n",
      "19\n",
      "21\n",
      "23\n",
      "25\n",
      "27\n",
      "29\n",
      "31\n",
      "33\n",
      "35\n",
      "37\n",
      "39\n"
     ]
    }
   ],
   "source": [
    "def fiboo(y):\n",
    "    x=0\n",
    "    y=1\n",
    "    print(0)\n",
    "    print(1)\n",
    "    i=0\n",
    "    sum=0\n",
    "    while i<20:\n",
    "        sum=x+y\n",
    "        print(sum)\n",
    "        x=x+1\n",
    "        y=y+1\n",
    "        i=i+1\n",
    "fiboo(3)"
   ]
  },
  {
   "cell_type": "code",
   "execution_count": 1,
   "metadata": {},
   "outputs": [
    {
     "name": "stdout",
     "output_type": "stream",
     "text": [
      "enter the number3\n",
      "upto which place2\n",
      "3\n"
     ]
    }
   ],
   "source": [
    "x=int(input(\"enter the number\"))\n",
    "z=int(input(\"upto which place\"))\n",
    "i=2\n",
    "summ=x\n",
    "while i<z:\n",
    "        summ=summ+((10**i)-1)\n",
    "        i=i+1\n",
    "print(summ)\n",
    "        "
   ]
  },
  {
   "cell_type": "code",
   "execution_count": 3,
   "metadata": {},
   "outputs": [
    {
     "name": "stdout",
     "output_type": "stream",
     "text": [
      "0 \n",
      "1 2 \n",
      "3 4 5 \n",
      "6 7 8 9 \n"
     ]
    }
   ],
   "source": [
    "y=0\n",
    "for i in range(1,5):\n",
    "    for j in range(i):\n",
    "        print(y,end=\" \")\n",
    "        y=y+1\n",
    "    print()"
   ]
  },
  {
   "cell_type": "code",
   "execution_count": 6,
   "metadata": {},
   "outputs": [
    {
     "name": "stdout",
     "output_type": "stream",
     "text": [
      "enter number1\n",
      "enter number2\n",
      "enter numberstop\n",
      "3\n"
     ]
    }
   ],
   "source": [
    "l=[]\n",
    "sum=0\n",
    "while True:\n",
    "    num=input(\"enter number\")\n",
    "    if num==\"stop\":\n",
    "        break\n",
    "    else:\n",
    "        l.append(num)\n",
    "for i in l:\n",
    "    sum=sum+int(i)\n",
    "print(sum)"
   ]
  },
  {
   "cell_type": "code",
   "execution_count": null,
   "metadata": {},
   "outputs": [],
   "source": []
  },
  {
   "cell_type": "code",
   "execution_count": null,
   "metadata": {},
   "outputs": [],
   "source": []
  }
 ],
 "metadata": {
  "kernelspec": {
   "display_name": "Python 3",
   "language": "python",
   "name": "python3"
  },
  "language_info": {
   "codemirror_mode": {
    "name": "ipython",
    "version": 3
   },
   "file_extension": ".py",
   "mimetype": "text/x-python",
   "name": "python",
   "nbconvert_exporter": "python",
   "pygments_lexer": "ipython3",
   "version": "3.7.3"
  }
 },
 "nbformat": 4,
 "nbformat_minor": 2
}
