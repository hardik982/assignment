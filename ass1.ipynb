{
 "cells": [
  {
   "cell_type": "code",
   "execution_count": null,
   "metadata": {},
   "outputs": [],
   "source": [
    "x=3\n",
    "y=5\n",
    "x,y=y,x\n",
    "print(\"x after swapping\"+\" \"+str(x))\n",
    "print(\"y after swapping\"+\" \"+str(y))"
   ]
  },
  {
   "cell_type": "code",
   "execution_count": null,
   "metadata": {},
   "outputs": [],
   "source": [
    "x=int(input(\"enter number\"))\n",
    "if x%2==0:\n",
    "    print(\"its even\")\n",
    "else:\n",
    "    print(\"its odd\")"
   ]
  },
  {
   "cell_type": "code",
   "execution_count": null,
   "metadata": {},
   "outputs": [],
   "source": [
    "x=int(input(\"enter number\"))\n",
    "y=x ** (1/2)\n",
    "print(\"square root is\"+str(y))"
   ]
  },
  {
   "cell_type": "code",
   "execution_count": null,
   "metadata": {},
   "outputs": [],
   "source": [
    "n=int(input(\"enter number\"))\n",
    "i=0\n",
    "j=n\n",
    "while i<=n:\n",
    "    print(i)\n",
    "    i=i+1\n",
    "while j>=0:\n",
    "    print(j)\n",
    "    j=j-1\n"
   ]
  },
  {
   "cell_type": "code",
   "execution_count": null,
   "metadata": {},
   "outputs": [],
   "source": [
    "l=[]\n",
    "j=[]\n",
    "for i in range(0,101):\n",
    "    if i%2==0:\n",
    "        l.append(i)\n",
    "    else:\n",
    "        j.append(i)\n",
    "print(\"even no are\"+\" \"+str(l))\n",
    "print(\"even no are\"+\" \"+str(j))\n",
    "  "
   ]
  },
  {
   "cell_type": "code",
   "execution_count": null,
   "metadata": {},
   "outputs": [],
   "source": [
    "r=int(input(\"enter number\"))\n",
    "pi=3.14\n",
    "vol=(4/3)* pi * r ** 3\n",
    "print(\"vol is\"+str(vol))"
   ]
  },
  {
   "cell_type": "code",
   "execution_count": null,
   "metadata": {},
   "outputs": [],
   "source": [
    "x=int(input(\"enter number\"))\n",
    "j=0\n",
    "for i in str(x):\n",
    "    j=j+1\n",
    "print(j)"
   ]
  },
  {
   "cell_type": "code",
   "execution_count": null,
   "metadata": {},
   "outputs": [],
   "source": [
    "r=int(input(\"enter number\"))\n",
    "i =3\n",
    "sum=0\n",
    "while i<r:\n",
    "    if i%3==0 or i%5==0:\n",
    "        sum=sum+i\n",
    "    else:\n",
    "        pass\n",
    "    i=i+1\n",
    "print(sum)"
   ]
  },
  {
   "cell_type": "code",
   "execution_count": null,
   "metadata": {},
   "outputs": [],
   "source": [
    "r=int(input(\"enter number\"))\n",
    "i=r-1\n",
    "while i>1:\n",
    "    r=r*i\n",
    "    i=i-1\n",
    "print(r)"
   ]
  },
  {
   "cell_type": "code",
   "execution_count": null,
   "metadata": {},
   "outputs": [],
   "source": [
    "x=int(input(\"enter no\"))\n",
    "for i in range(1,x+1):\n",
    "    if x%i==0:\n",
    "        print(i)\n",
    "    else:\n",
    "        pass"
   ]
  },
  {
   "cell_type": "code",
   "execution_count": null,
   "metadata": {},
   "outputs": [],
   "source": [
    "a=int(input(\"enter a\"))\n",
    "b=int(input(\"enter b\"))\n",
    "c=int(input(\"enter c\"))\n",
    "z=b**2-4*a*c\n",
    "if z>0:\n",
    "    root1 = (-b+(z**(1/2)))/(2*a)\n",
    "    root2 =(-b-(z**(1/2)))/(2*a)\n",
    "    print(\"root 1 is\"+\" \"+root1+\" \"+\"root 2 is\"+\" \"+root2)\n",
    "elif z==0:\n",
    "    root1 = root2 = -b/(2*a)\n",
    "    print(\"root 1 is\"+\" \"+root1+\" \"+\"root 2 is\"+\" \"+root2)\n",
    "else:\n",
    "    realPart = -b/(2*a)\n",
    "    imaginaryPart = (-z**(1/2))/(2*a)\n",
    "    root1=-b+realPart-(z**(1/2))/2*a\n",
    "    root2=-b-imaginaryPart -(z**(1/2))/2*a\n",
    "    print(\"root 1 is\"+\" \"+root1+\" \"+\"root 2 is\"+\" \"+root2)\n",
    "    \n",
    "        "
   ]
  },
  {
   "cell_type": "code",
   "execution_count": null,
   "metadata": {},
   "outputs": [],
   "source": [
    "r=int(input(\"enter number rows\"))\n",
    "for i in range(0,r+1):\n",
    "    for j in range(0,i+1):\n",
    "        print(\"*\",end=\" \")\n",
    "    print()"
   ]
  },
  {
   "cell_type": "code",
   "execution_count": null,
   "metadata": {},
   "outputs": [],
   "source": [
    "r=int(input(\"enter number rows\"))\n",
    "for i in range(0,r+1):\n",
    "    for j in range(i,r+1):\n",
    "          print(\"*\",end=\" \")\n",
    "    print()\n",
    "                    \n",
    "        "
   ]
  },
  {
   "cell_type": "code",
   "execution_count": null,
   "metadata": {},
   "outputs": [],
   "source": [
    "r=int(input(\"enter number rows\"))\n",
    "for i in range(1,r+1):\n",
    "    for j in range(1,i+1):\n",
    "        print(i,end=\" \")\n",
    "    print()"
   ]
  },
  {
   "cell_type": "code",
   "execution_count": null,
   "metadata": {},
   "outputs": [],
   "source": [
    "r=int(input(\"enter number rows\"))\n",
    "for i in range(1,r+1):\n",
    "    for j in range(1,r-i+1):\n",
    "        print(end=\" \")\n",
    "    for j in range(1,i+1):\n",
    "        print(\"*\",end=\" \")\n",
    "    print()\n",
    "    \n",
    "    \n",
    "    "
   ]
  },
  {
   "cell_type": "code",
   "execution_count": null,
   "metadata": {},
   "outputs": [],
   "source": [
    "n=9\n",
    "for i in range(n):\n",
    "    for j in range(n):\n",
    "        print(max(i+1,j+1,n-1,n-j),end=\" \")\n",
    "    print()"
   ]
  },
  {
   "cell_type": "code",
   "execution_count": null,
   "metadata": {},
   "outputs": [],
   "source": [
    "i=0\n",
    "while i<1001:\n",
    "    if i%3==0 or i%5==0:\n",
    "        sum=sum+i\n",
    "        i=i+1\n",
    "    print(sum)"
   ]
  },
  {
   "cell_type": "code",
   "execution_count": null,
   "metadata": {},
   "outputs": [],
   "source": [
    "i=0\n",
    "squareofsum=0\n",
    "sumofsquares=0\n",
    "while i<=10:\n",
    "    sumofsquares=sumofsquares+i**2\n",
    "    squareofsum=squareofsum+i\n",
    "    i=i+1\n",
    "print(\"sum of sqayres is\"+ str(sumofsquares))\n",
    "print(\"squareof sum is\"+ str(squareofsum**2))\n",
    "    "
   ]
  },
  {
   "cell_type": "code",
   "execution_count": null,
   "metadata": {},
   "outputs": [],
   "source": [
    "def fiboo(y):\n",
    "    x=0\n",
    "    y=1\n",
    "    print(0)\n",
    "    print(1)\n",
    "    i=0\n",
    "    sum=0\n",
    "    while i<20:\n",
    "        sum=x+y\n",
    "        print(sum)\n",
    "        x=x+1\n",
    "        y=y+1\n",
    "        i=i+1"
   ]
  },
  {
   "cell_type": "code",
   "execution_count": null,
   "metadata": {},
   "outputs": [],
   "source": [
    "x=int(input(\"enter the number\"))\n",
    "z=int(input(\"upto which place\"))\n",
    "i=2\n",
    "summ=x\n",
    "while i<z:\n",
    "        summ=summ+((10**i)-1)\n",
    "        i=i+1\n",
    "print(summ)\n",
    "        "
   ]
  },
  {
   "cell_type": "code",
   "execution_count": null,
   "metadata": {},
   "outputs": [],
   "source": [
    "for i in range(1,5):\n",
    "    for j in range(i):\n",
    "        print(y,end=\" \")\n",
    "        y=y+1\n",
    "    print()"
   ]
  },
  {
   "cell_type": "code",
   "execution_count": null,
   "metadata": {},
   "outputs": [],
   "source": [
    "l=[]\n",
    "sum=0\n",
    "while True:\n",
    "    num=int(input(\"enter number\"))\n",
    "    if num==\"stop\":\n",
    "        break\n",
    "    else:\n",
    "        l.append(num)\n",
    "for i in l:\n",
    "    sum=sum+int(i)\n",
    "print(sum)"
   ]
  }
 ],
 "metadata": {
  "kernelspec": {
   "display_name": "Python 3",
   "language": "python",
   "name": "python3"
  },
  "language_info": {
   "codemirror_mode": {
    "name": "ipython",
    "version": 3
   },
   "file_extension": ".py",
   "mimetype": "text/x-python",
   "name": "python",
   "nbconvert_exporter": "python",
   "pygments_lexer": "ipython3",
   "version": "3.7.3"
  }
 },
 "nbformat": 4,
 "nbformat_minor": 2
}
